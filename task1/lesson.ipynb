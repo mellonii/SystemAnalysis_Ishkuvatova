{
 "cells": [
  {
   "cell_type": "markdown",
   "metadata": {},
   "source": [
    "Задача: написать дерево, перевести из json в код"
   ]
  },
  {
   "cell_type": "code",
   "execution_count": 5,
   "metadata": {},
   "outputs": [
    {
     "name": "stdout",
     "output_type": "stream",
     "text": [
      "{'1': {'2': {'3': {'5': {}, '6': {}}, '4': {'7': {}, '8': {}}}}}\n",
      "[['1', '2'], ['2', '3'], ['2', '4'], ['3', '5'], ['3', '6'], ['4', '7'], ['4', '8']]\n"
     ]
    }
   ],
   "source": [
    "import json\n",
    "\n",
    "result = []\n",
    "\n",
    "def json_to_tree(tree, parent):\n",
    "    for x in tree:\n",
    "        for i in tree[x]:\n",
    "            result.append([x, i])\n",
    "        json_to_tree(tree[x], x)\n",
    "       \n",
    "file_name = \"tree.json\"\n",
    "with open(file_name, \"r\") as file:\n",
    "    tmp = file.read()\n",
    "tree = json.loads(tmp)\n",
    "print(tree)\n",
    "\n",
    "json_to_tree(tree, 0)\n",
    "print(result)"
   ]
  }
 ],
 "metadata": {
  "kernelspec": {
   "display_name": "base",
   "language": "python",
   "name": "python3"
  },
  "language_info": {
   "codemirror_mode": {
    "name": "ipython",
    "version": 3
   },
   "file_extension": ".py",
   "mimetype": "text/x-python",
   "name": "python",
   "nbconvert_exporter": "python",
   "pygments_lexer": "ipython3",
   "version": "3.11.5"
  }
 },
 "nbformat": 4,
 "nbformat_minor": 2
}
