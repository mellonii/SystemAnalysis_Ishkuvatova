{
 "cells": [
  {
   "cell_type": "markdown",
   "metadata": {},
   "source": [
    "Задача: написать дерево, перевести из json в код"
   ]
  },
  {
   "cell_type": "code",
   "execution_count": 9,
   "metadata": {},
   "outputs": [
    {
     "name": "stdout",
     "output_type": "stream",
     "text": [
      "[[1, 2], [2, 3], [2, 4], [3, 5], [3, 6], [4, 7], [4, 8]]\n"
     ]
    }
   ],
   "source": [
    "import json\n",
    "\n",
    "def dict_to_tree(result, tree, parent):\n",
    "    for x in tree:\n",
    "        for i in tree[x]:\n",
    "            result.append([int(x), int(i)])\n",
    "        dict_to_tree(result, tree[x], x)\n",
    "\n",
    "def json_to_tree(file_name):\n",
    "    result = []\n",
    "    with open(file_name, \"r\") as file:\n",
    "        tree = json.loads(file.read())\n",
    "    #print(tree)\n",
    "\n",
    "    dict_to_tree(result, tree, 0)\n",
    "    return result\n",
    "\n",
    "\n",
    "file_name = \"tree.json\"\n",
    "print(json_to_tree(file_name))"
   ]
  },
  {
   "cell_type": "markdown",
   "metadata": {},
   "source": [
    "Функции для представления дерева в другом виде:"
   ]
  },
  {
   "cell_type": "code",
   "execution_count": 8,
   "metadata": {},
   "outputs": [
    {
     "name": "stdout",
     "output_type": "stream",
     "text": [
      "[[0 1 0 0 0 0 0 0]\n",
      " [1 0 1 1 0 0 0 0]\n",
      " [0 1 0 0 1 1 0 0]\n",
      " [0 1 0 0 0 0 1 1]\n",
      " [0 0 1 0 0 0 0 0]\n",
      " [0 0 1 0 0 0 0 0]\n",
      " [0 0 0 1 0 0 0 0]\n",
      " [0 0 0 1 0 0 0 0]]\n"
     ]
    }
   ],
   "source": [
    "import numpy as np\n",
    "\n",
    "def to_matrix(ribs):\n",
    "    n = len(ribs) + 1\n",
    "    matrix = np.zeros((n,n), dtype=int)\n",
    "    for x in ribs:\n",
    "        a = x[0] - 1\n",
    "        b = x[1] - 1\n",
    "        matrix[a][b] = 1\n",
    "        matrix[b][a] = 1\n",
    "    return matrix\n",
    "\n",
    "\n",
    "list_of_ribs = json_to_tree(\"tree.json\")\n",
    "print(to_matrix(list_of_ribs))"
   ]
  },
  {
   "cell_type": "code",
   "execution_count": 11,
   "metadata": {},
   "outputs": [
    {
     "name": "stdout",
     "output_type": "stream",
     "text": [
      "[0. 1. 2. 2. 3. 3. 4. 4.]\n"
     ]
    }
   ],
   "source": [
    "import numpy as np\n",
    "\n",
    "def to_array(ribs):\n",
    "    n = len(ribs) + 1\n",
    "    array = np.zeros(n)\n",
    "    for x in ribs:\n",
    "        a = x[0]\n",
    "        b = x[1] - 1\n",
    "        array[b] = a\n",
    "    return array\n",
    "\n",
    "\n",
    "list_of_ribs = json_to_tree(\"tree.json\")\n",
    "print(to_array(list_of_ribs))"
   ]
  }
 ],
 "metadata": {
  "kernelspec": {
   "display_name": "base",
   "language": "python",
   "name": "python3"
  },
  "language_info": {
   "codemirror_mode": {
    "name": "ipython",
    "version": 3
   },
   "file_extension": ".py",
   "mimetype": "text/x-python",
   "name": "python",
   "nbconvert_exporter": "python",
   "pygments_lexer": "ipython3",
   "version": "3.11.5"
  }
 },
 "nbformat": 4,
 "nbformat_minor": 2
}
