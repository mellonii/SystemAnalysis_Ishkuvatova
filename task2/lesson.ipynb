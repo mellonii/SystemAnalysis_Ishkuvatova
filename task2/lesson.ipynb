{
 "cells": [
  {
   "cell_type": "markdown",
   "metadata": {},
   "source": [
    "Задание: Вывести для каждого узла:\n",
    "1. братьев и сестер \n",
    "2. потомков"
   ]
  },
  {
   "cell_type": "markdown",
   "metadata": {},
   "source": [
    "Используем код из task1 для конвертации json:"
   ]
  },
  {
   "cell_type": "code",
   "execution_count": 15,
   "metadata": {},
   "outputs": [
    {
     "name": "stdout",
     "output_type": "stream",
     "text": [
      "[[1, 2], [2, 3], [2, 4], [3, 5], [3, 6], [4, 7], [4, 8]]\n"
     ]
    }
   ],
   "source": [
    "import json\n",
    "\n",
    "def dict_to_tree(result, tree, parent):\n",
    "    for x in tree:\n",
    "        for i in tree[x]:\n",
    "            result.append([int(x), int(i)])\n",
    "        dict_to_tree(result, tree[x], x)\n",
    "\n",
    "def json_to_tree(file_name):\n",
    "    result = []\n",
    "    with open(file_name, \"r\") as file:\n",
    "        tree = json.loads(file.read())\n",
    "    #print(tree)\n",
    "\n",
    "    dict_to_tree(result, tree, 0)\n",
    "    return result\n",
    "\n",
    "\n",
    "tmp = json_to_tree(\"tree.json\")\n",
    "print(tmp)"
   ]
  },
  {
   "cell_type": "markdown",
   "metadata": {},
   "source": [
    "Это конечно не самый эффективный алгоритм для поиска братьев и сестер, но задачу решает:"
   ]
  },
  {
   "cell_type": "code",
   "execution_count": 21,
   "metadata": {},
   "outputs": [
    {
     "name": "stdout",
     "output_type": "stream",
     "text": [
      "[5]\n"
     ]
    }
   ],
   "source": [
    "child = 6\n",
    "parent = None\n",
    "for x in tmp:\n",
    "    if x[1] == child:\n",
    "        parent = x[0]\n",
    "\n",
    "bro_and_sis = []\n",
    "for x in tmp:\n",
    "    if x[0] == parent and x[1] != child:\n",
    "        bro_and_sis.append(x[1])\n",
    "print(bro_and_sis)"
   ]
  },
  {
   "cell_type": "markdown",
   "metadata": {},
   "source": [
    "Поиск потомков:"
   ]
  },
  {
   "cell_type": "code",
   "execution_count": null,
   "metadata": {},
   "outputs": [],
   "source": []
  }
 ],
 "metadata": {
  "kernelspec": {
   "display_name": "base",
   "language": "python",
   "name": "python3"
  },
  "language_info": {
   "codemirror_mode": {
    "name": "ipython",
    "version": 3
   },
   "file_extension": ".py",
   "mimetype": "text/x-python",
   "name": "python",
   "nbconvert_exporter": "python",
   "pygments_lexer": "ipython3",
   "version": "3.11.5"
  }
 },
 "nbformat": 4,
 "nbformat_minor": 2
}
