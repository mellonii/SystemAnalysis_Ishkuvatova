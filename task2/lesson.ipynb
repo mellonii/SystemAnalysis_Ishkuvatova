{
 "cells": [
  {
   "cell_type": "markdown",
   "metadata": {},
   "source": [
    "Задание: Вывести для каждого узла:\n",
    "- Количество прямых предков\n",
    "- Количество прямых потомков\n",
    "- Количество не прямых предков\n",
    "- Количество непрямых потомков\n",
    "- Количество братьев (те, с которыми один и тот же предок)"
   ]
  },
  {
   "cell_type": "markdown",
   "metadata": {},
   "source": [
    "Используем код из task1 для конвертации json:"
   ]
  },
  {
   "cell_type": "code",
   "execution_count": 68,
   "metadata": {},
   "outputs": [
    {
     "name": "stdout",
     "output_type": "stream",
     "text": [
      "[[1, 2], [2, 3], [2, 4], [3, 5], [3, 6], [4, 7], [4, 8]]\n"
     ]
    }
   ],
   "source": [
    "import json\n",
    "\n",
    "def dict_to_tree(result, tree, parent):\n",
    "    for x in tree:\n",
    "        for i in tree[x]:\n",
    "            result.append([int(x), int(i)])\n",
    "        dict_to_tree(result, tree[x], x)\n",
    "\n",
    "def json_to_tree(file_name):\n",
    "    result = []\n",
    "    with open(file_name, \"r\") as file:\n",
    "        tree = json.loads(file.read())\n",
    "\n",
    "    dict_to_tree(result, tree, 0)\n",
    "    return result\n",
    "\n",
    "\n",
    "tmp = json_to_tree(\"tree.json\")\n",
    "print(tmp)"
   ]
  },
  {
   "cell_type": "markdown",
   "metadata": {},
   "source": [
    "Это конечно не самый эффективный алгоритм для поиска братьев и сестер, но задачу решает:"
   ]
  },
  {
   "cell_type": "code",
   "execution_count": 69,
   "metadata": {},
   "outputs": [],
   "source": [
    "def find_bro_and_sis(child):\n",
    "    parent = None\n",
    "    for x in tmp:\n",
    "        if x[1] == child:\n",
    "            parent = x[0]\n",
    "\n",
    "    bro_and_sis = []\n",
    "    for x in tmp:\n",
    "        if x[0] == parent and x[1] != child:\n",
    "            bro_and_sis.append(x[1])\n",
    "    print(bro_and_sis)"
   ]
  },
  {
   "cell_type": "code",
   "execution_count": 70,
   "metadata": {},
   "outputs": [
    {
     "name": "stdout",
     "output_type": "stream",
     "text": [
      "[6]\n"
     ]
    }
   ],
   "source": [
    "child = 5\n",
    "find_bro_and_sis(child)"
   ]
  },
  {
   "cell_type": "markdown",
   "metadata": {},
   "source": [
    "Поиск потомков будет легче написать с использованием класса: (так же впишу поиск братьев и сестер)"
   ]
  },
  {
   "cell_type": "code",
   "execution_count": 113,
   "metadata": {},
   "outputs": [],
   "source": [
    "class Tree:\n",
    "    # Корень дерева\n",
    "    root = None\n",
    "\n",
    "    def __init__(self, value):\n",
    "        self.value = value\n",
    "        self.parent = None\n",
    "        self.children = []\n",
    "\n",
    "    def add_child(self, child_node):\n",
    "        self.children.append(child_node)\n",
    "        child_node.parent = self\n",
    "\n",
    "def build_tree(edges):\n",
    "    nodes = {}\n",
    "\n",
    "    for parent, child in edges:\n",
    "        if parent not in nodes:\n",
    "            nodes[parent] = Tree(parent)\n",
    "\n",
    "        if child not in nodes:\n",
    "            nodes[child] = Tree(child)\n",
    "\n",
    "        parent_node = nodes[parent]\n",
    "        child_node = nodes[child]\n",
    "        parent_node.add_child(child_node)\n",
    "\n",
    "    Tree.root = nodes[edges[0][0]]\n",
    "    return nodes\n",
    "\n",
    "def find_ancestors(node): # r1 - отношение непосредственного управления (прямые предки)\n",
    "    if node is Tree.root:\n",
    "        return []\n",
    "    \n",
    "    return [node.parent.value]\n",
    "\n",
    "def find_descendants(node): # r2 - отношение непосредственного подчинения (прямые потомки)\n",
    "    result = []\n",
    "    for tmp in node.children:\n",
    "        if tmp is not None:\n",
    "            result.append(tmp.value)\n",
    "    return result\n",
    "\n",
    "def find_indirect_ancestors(child, node): # r3 - отношение опосредованного управления (непрямые предки)\n",
    "    ancestors = []\n",
    "    \n",
    "    if node is not Tree.root:\n",
    "        if node is not child:\n",
    "            ancestors.append(node.parent.value)\n",
    "        ancestors += find_indirect_ancestors(child, node.parent)\n",
    "\n",
    "    return ancestors\n",
    "\n",
    "def find_indirect_descendants(parent, node): # r4 - отношение опосредованного подчинения (непрямые потомки)\n",
    "    descendants = []\n",
    "    \n",
    "    for child in node.children:\n",
    "        if child is not None:\n",
    "            if node is not parent:\n",
    "                descendants.append(child.value)\n",
    "            descendants += find_indirect_descendants(parent, child)\n",
    "\n",
    "    return descendants\n",
    "\n",
    "def bro_and_sis(node): # r5 - отношение соподчинения на одном уровне (братья и сестры)\n",
    "    if node is Tree.root:\n",
    "        return []\n",
    "    \n",
    "    parent = node.parent\n",
    "    result = []\n",
    "\n",
    "    for tmp in parent.children:\n",
    "        if (tmp != node): \n",
    "            result.append(tmp.value)\n",
    "\n",
    "    return result\n"
   ]
  },
  {
   "cell_type": "code",
   "execution_count": 114,
   "metadata": {},
   "outputs": [
    {
     "name": "stdout",
     "output_type": "stream",
     "text": [
      "[3]\n",
      "[3, 4]\n",
      "[2, 1]\n",
      "[5, 6, 7, 8]\n",
      "[6]\n"
     ]
    }
   ],
   "source": [
    "edges = json_to_tree(\"tree.json\")\n",
    "tree = build_tree(edges) # словарь с названием и вершиной\n",
    "\n",
    "print(find_ancestors(tree[5])) # прямые предки\n",
    "print(find_descendants(tree[2])) # прямые потомки\n",
    "print(find_indirect_ancestors(tree[5], tree[5])) # непрямые предки\n",
    "print(find_indirect_descendants(tree[2], tree[2])) # непрямые потомки\n",
    "print(bro_and_sis(tree[5])) # братья и сестры\n"
   ]
  },
  {
   "attachments": {
    "graph.jpg": {
     "image/jpeg": "[encoded data removed]"
    }
   },
   "cell_type": "markdown",
   "metadata": {},
   "source": [
    "![graph.jpg](attachment:graph.jpg)"
   ]
  },
  {
   "cell_type": "markdown",
   "metadata": {},
   "source": [
    "Ну и выведем матрицу отношений для каждой вершины"
   ]
  },
  {
   "cell_type": "code",
   "execution_count": 115,
   "metadata": {},
   "outputs": [
    {
     "name": "stdout",
     "output_type": "stream",
     "text": [
      "[[0, 1, 0, 6, 0], [1, 2, 0, 4, 0], [1, 2, 1, 0, 1], [1, 2, 1, 0, 1], [1, 0, 2, 0, 1], [1, 0, 2, 0, 1], [1, 0, 2, 0, 1], [1, 0, 2, 0, 1]]\n"
     ]
    }
   ],
   "source": [
    "matrix = []\n",
    "for node in tree:\n",
    "    tmp = []\n",
    "    tmp.append(len(find_ancestors(tree[node]))) # прямые предки\n",
    "    tmp.append(len(find_descendants(tree[node]))) # прямые потомки\n",
    "    tmp.append(len(find_indirect_ancestors(tree[node], tree[node]))) # непрямые предки\n",
    "    tmp.append(len(find_indirect_descendants(tree[node], tree[node]))) # непрямые потомки\n",
    "    tmp.append(len(bro_and_sis(tree[node]))) # братья и сестры\n",
    "    matrix.append(tmp)\n",
    "print(matrix)"
   ]
  }
 ],
 "metadata": {
  "kernelspec": {
   "display_name": "base",
   "language": "python",
   "name": "python3"
  },
  "language_info": {
   "codemirror_mode": {
    "name": "ipython",
    "version": 3
   },
   "file_extension": ".py",
   "mimetype": "text/x-python",
   "name": "python",
   "nbconvert_exporter": "python",
   "pygments_lexer": "ipython3",
   "version": "3.11.5"
  }
 },
 "nbformat": 4,
 "nbformat_minor": 2
}
